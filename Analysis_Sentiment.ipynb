{
  "nbformat": 4,
  "nbformat_minor": 0,
  "metadata": {
    "colab": {
      "provenance": [],
      "collapsed_sections": []
    },
    "kernelspec": {
      "name": "python3",
      "display_name": "Python 3"
    },
    "language_info": {
      "name": "python"
    }
  },
  "cells": [
    {
      "cell_type": "markdown",
      "source": [
        "Ouvrir le fichier excel"
      ],
      "metadata": {
        "id": "XLtZKcIjqyhI"
      }
    },
    {
      "cell_type": "code",
      "execution_count": null,
      "metadata": {
        "id": "IXNU2khiqxiG"
      },
      "outputs": [],
      "source": [
        "import pandas as pd\n",
        "\n",
        "# read data\n",
        "reviews_df = pd.read_csv(\"Hotel_Reviews.csv\")\n",
        "# append the positive and negative text reviews\n",
        "reviews_df[\"review\"] = reviews_df[\"Negative_Review\"] + reviews_df[\"Positive_Review\"]\n",
        "# create the label\n",
        "reviews_df[\"is_bad_review\"] = reviews_df[\"Reviewer_Score\"].apply(lambda x: 1 if x < 5 else 0)\n",
        "# select only relevant columns\n",
        "reviews_df = reviews_df[[\"review\", \"is_bad_review\"]]\n",
        "reviews_df.head()"
      ]
    },
    {
      "cell_type": "markdown",
      "source": [
        "Enlever la ponctuation, les sauts de lignes, les caractères spéciaux"
      ],
      "metadata": {
        "id": "AJU46atH3rH8"
      }
    },
    {
      "cell_type": "code",
      "source": [
        "txt=\"Bonjour mesdames, messieurs !\\n je m'appelle hugues\"\n",
        "l=\"\"\n",
        "for j in txt:\n",
        "  #for j in i:\n",
        "  if (j.isalpha() or j.isdigit() or j.isspace() or j==\"'\"):\n",
        "    l+=j.lower()\n",
        "\n",
        "#On enlève les sauts de ligne\n",
        "b=l.replace('\\n','').split(' ')\n",
        "c=[]\n",
        "for i in b:\n",
        "  if i != \"\":\n",
        "   c.append(i)\n",
        "d=' '.join(c)\n",
        "\n",
        "print(d)"
      ],
      "metadata": {
        "colab": {
          "base_uri": "https://localhost:8080/"
        },
        "id": "v0-diLptwt99",
        "outputId": "636f84bf-a2ed-4b9c-e035-7a4f23ca03b3"
      },
      "execution_count": 33,
      "outputs": [
        {
          "output_type": "stream",
          "name": "stdout",
          "text": [
            "bonjour mesdames messieurs je m'appelle hugues\n"
          ]
        }
      ]
    },
    {
      "cell_type": "markdown",
      "source": [
        "Enlever les mots sémantiquement non importants"
      ],
      "metadata": {
        "id": "8DB7oQ0S4XLC"
      }
    },
    {
      "cell_type": "code",
      "source": [
        "d={\"ourselves\", \"hers\", \"between\", \"yourself\", \"again\", \"there\", \"about\", \"once\", \"during\", \"out\", \"very\", \"having\", \"with\", \"they\", \"own\", \"an\", \"be\", \"some\", \"for\", \"do\", \"its\", \"yours\", \"such\", \"into\", \"of\", \"most\", \"itself\", \"other\", \"off\", \"is\", \"s\", \"am\", \"or\", \"who\", \"as\", \"from\", \"him\", \"each\", \"the\", \"themselves\", \"until\", \"below\", \"are\", \"we\", \"these\", \"your\", \"his\", \"through\", \"me\", \"were\", \"her\", \"more\", \"himself\", \"this\", \"down\", \"should\", \"our\", \"their\", \"while\", \"above\", \"both\", \"up\", \"to\", \"ours\", \"had\", \"she\", \"all\", \"no\", \"when\", \"at\", \"any\", \"before\", \"them\", \"same\", \"and\", \"been\", \"have\", \"in\", \"will\", \"on\", \"does\", \"yourselves\", \"then\", \"that\", \"because\", \"what\", \"over\", \"why\", \"so\", \"can\", \"did\", \"now\", \"under\", \"he\", \"you\", \"herself\", \"has\", \"just\", \"where\", \"too\", \"only\", \"myself\", \"which\", \"those\", \"i\", \"after\", \"few\", \"whom\", \"t\", \"being\", \"if\", \"theirs\", \"my\", \"a\", \"by\", \"doing\", \"it\", \"how\", \"further\", \"was\", \"here\", \"than\"} \n",
        "print(d)"
      ],
      "metadata": {
        "colab": {
          "base_uri": "https://localhost:8080/"
        },
        "id": "Be3z94iE3V9L",
        "outputId": "0efca4d7-10fd-4502-ae67-2f34b1fffb06"
      },
      "execution_count": 36,
      "outputs": [
        {
          "output_type": "stream",
          "name": "stdout",
          "text": [
            "{'yourself', 'your', 'on', 'this', 'what', 'other', 'who', 'do', 'because', 'me', 'between', 'her', 'against', 'if', 'any', 'can', 'an', 'we', 'above', 'itself', 'of', 'has', 'which', 'so', 'you', 'theirs', 'been', 'few', 'whom', 'from', 'here', 'ourselves', 'my', 'yourselves', 'too', 'below', 't', 'during', 'while', 'are', 'again', 'before', 'was', 'doing', 'ours', 'be', 'just', 'those', 'to', 'than', 'under', 'don', 'after', 'once', 'himself', 'the', 'through', 'same', 'or', 'them', 'some', 'have', 'he', 'it', 's', 'yours', 'why', 'for', 'over', 'at', 'all', 'having', 'own', 'where', 'further', 'out', 'him', 'our', 'off', 'with', 'is', 'does', 'each', 'now', 'about', 'they', 'did', 'but', 'up', 'in', 'that', 'should', 'both', 'most', 'their', 'when', 'his', 'nor', 'as', 'were', 'there', 'very', 'not', 'down', 'its', 'a', 'herself', 'had', 'and', 'then', 'such', 'into', 'by', 'will', 'only', 'how', 'until', 'hers', 'these', 'she', 'no', 'more', 'myself', 'i', 'being', 'themselves', 'am'}\n"
          ]
        }
      ]
    }
  ]
}